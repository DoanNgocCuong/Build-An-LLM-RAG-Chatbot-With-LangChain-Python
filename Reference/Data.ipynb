{
 "cells": [
  {
   "cell_type": "markdown",
   "metadata": {},
   "source": [
    "Dưới đây là bảng tóm tắt các bộ dữ liệu (dataset) cùng với mô tả và dung lượng tương ứng:\n",
    "\n",
    "| **Nhóm**                | **Dataset**                                    | **Mô tả**                                                                                   | **Dung lượng** |\n",
    "|-------------------------|------------------------------------------------|--------------------------------------------------------------------------------------------|----------------|\n",
    "| **QA (Single-hop)**     | Natural Questions (NQ) [111]                   | Câu hỏi từ các trang web như Wikipedia.                                                    | 307,373 mẫu    |\n",
    "|                         | TriviaQA (TQA) [113]                           | Câu hỏi kiến thức tổng quát từ nhiều nguồn như web và sách.                                | 650,000 mẫu    |\n",
    "|                         | SQuAD [114]                                    | Dựa trên các đoạn văn từ Wikipedia để trả lời câu hỏi.                                      | 100,000+ mẫu   |\n",
    "|                         | WebQuestions (WebQ) [115]                      | Câu hỏi dựa trên Freebase knowledge graph.                                                 | 5,810 mẫu      |\n",
    "|                         | PopQA [116]                                    | Câu hỏi về kiến thức văn hóa đại chúng.                                                    | 14,000 mẫu     |\n",
    "|                         | MSMARCO [117]                                  | Từ các đoạn văn tìm kiếm của Bing.                                                         | 1,010,916 mẫu  |\n",
    "| **QA (Multi-hop)**      | HotpotQA [118]                                 | Đòi hỏi lý luận qua nhiều đoạn văn.                                                        | 113,000 mẫu    |\n",
    "|                         | 2WikiMultiHopQA [119]                          | Cần đọc từ nhiều bài viết Wikipedia.                                                       | 200,000 mẫu    |\n",
    "|                         | MuSiQue [120]                                  | Suy luận nhiều bước để trả lời.                                                            | 25,000 mẫu     |\n",
    "| **QA (Long-form)**      | ELI5 [121]                                     | Giải thích câu hỏi dễ hiểu và chi tiết.                                                    | 270,000 mẫu    |\n",
    "|                         | NarrativeQA (NQA) [122]                        | Trả lời câu hỏi từ văn bản tự sự.                                                          | 1,572 mẫu      |\n",
    "|                         | ASQA [124]                                     | Câu trả lời dài dựa trên ngữ cảnh.                                                        | 57,000 mẫu     |\n",
    "|                         | QMSum (QM) [125]                               | Tóm tắt từ nhiều cuộc họp.                                                                 | 232 cuộc họp   |\n",
    "| **QA (Domain-specific)**| Qasper [126]                                   | Dành cho tài liệu khoa học.                                                                | 5,049 mẫu      |\n",
    "|                         | COVID-QA [127]                                 | Thông tin y tế liên quan đến COVID-19.                                                     | 2,019 mẫu      |\n",
    "| **Dialog Systems**      | Wizard of Wikipedia (WoW) [133]                | Đối thoại dựa trên kiến thức Wikipedia.                                                    | 22,311 cuộc hội thoại |\n",
    "|                         | PersonalDialog KBP [134], DuleMon [136]        | Đối thoại theo ngữ cảnh cá nhân.                                                           | 13,000 mẫu     |\n",
    "|                         | CamRest [137]                                  | Hệ thống đối thoại theo nhiệm vụ.                                                          | 676 cuộc hội thoại |\n",
    "| **Recommendation**      | Amazon Reviews [138]                           | Đánh giá và đề xuất sản phẩm (Toys, Sport, Beauty).                                        | 233,000+ mẫu   |\n",
    "| **Information Extraction** | WikiEvent [139], RAMS [140]                 | Trích xuất sự kiện từ văn bản.                                                             | 800+ sự kiện   |\n",
    "|                         | T-REx [141], ZsRE [142]                       | Nhận dạng quan hệ giữa các thực thể.                                                       | 11,000,000 mẫu |\n",
    "| **Reasoning**           | HellaSwag [143], CSQA [145]                    | Suy luận dựa trên kiến thức thông thường.                                                  | 70,000 mẫu     |\n",
    "|                         | CoTReasoning [144]                             | Suy luận theo từng bước.                                                                   | 100,000+ mẫu   |\n",
    "| **Text Generation**     | Biography [151]                                | Tạo văn bản tự truyện.                                                                     | 1,500 mẫu      |\n",
    "| **Text Summarization**  | WikiASP [152], XSum [153]                      | Tóm tắt văn bản.                                                                           | 226,711 mẫu    |\n",
    "| **Text Classification** | SST-2 [156]                                    | Phân loại cảm xúc từ các đánh giá.                                                         | 67,349 mẫu     |\n",
    "|                         | VioLens [154], TREC [155]                      | Phân loại câu hỏi và câu trả lời.                                                          | 6,000+ mẫu     |\n",
    "| **Robustness Evaluation**| NoMIRACL [56]                                 | Đánh giá khả năng chịu lỗi của mô hình.                                                    | 10,000+ mẫu    |\n",
    "| **Mathematics**         | GSM8K [158]                                    | Bài toán toán học cho học sinh lớp 8.                                                      | 8,000 mẫu      |\n",
    "| **Machine Translation** | JRC-Acquis [159]                               | Dịch tài liệu pháp luật của EU.                                                            | 1,000,000+ câu |\n",
    "\n",
    "*Lưu ý: Dung lượng được liệt kê dưới dạng số lượng mẫu hoặc câu hỏi trong mỗi bộ dữ liệu.* "
   ]
  }
 ],
 "metadata": {
  "language_info": {
   "name": "python"
  }
 },
 "nbformat": 4,
 "nbformat_minor": 2
}
